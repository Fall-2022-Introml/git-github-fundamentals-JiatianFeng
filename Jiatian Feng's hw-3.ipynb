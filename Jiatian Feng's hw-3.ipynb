{
 "cells": [
  {
   "cell_type": "markdown",
   "metadata": {
    "deletable": false,
    "editable": false,
    "nbgrader": {
     "cell_type": "markdown",
     "checksum": "e60ebaf6c71d1c81b70709363ac45df9",
     "grade": false,
     "grade_id": "Description",
     "locked": true,
     "schema_version": 3,
     "solution": false,
     "task": false
    }
   },
   "source": [
    "#### Homework-3\n",
    "##### Total number of points: 70\n",
    "#### Due date: September 29, 2022\n",
    "\n",
    "Before you submit this homework, make sure everything runs as expected. First, restart the kernel (in the menu, select Kernel → Restart) and then run all cells (in the menubar, select Cell → Run All). You can discuss with others regarding the homework but all work must be your own.\n",
    "\n",
    "This homework will test your knowledge on data manipulation, manipulating strings and feature preprocessing. The Python notebooks shared will be helpful to solve these problems.  \n",
    "\n",
    "Steps to evaluate your solutions:\n",
    "\n",
    "Step-1: Try on Colab or Anaconda (Windows: https://docs.anaconda.com/anaconda/install/windows/ ; Mac:https://docs.anaconda.com/anaconda/install/mac-os/ ; Linux: https://docs.anaconda.com/anaconda/install/linux/)\n",
    "\n",
    "Step-2: Open the Jupyter Notebook by first launching the anaconda software console\n",
    "\n",
    "Step-3: Open the homework's .ipynb file and write your solutions at the appropriate location \"# YOUR CODE HERE\"\n",
    "\n",
    "Step-4: You can restart the kernel and click run all (in the menubar, select Cell → Run All) on the center-right on the top of this window.\n",
    "\n",
    "Step-5: Now go to \"File\" then click on \"Download as\" then click on \"Notebook (.ipynb)\" Please DO NOT change the file name and just keep it as \".ipynb\"\n",
    "\n",
    "Step-6: Go to lms.rpi.edu and upload your homework at the appropriate link to submit this homework.\n",
    "\n",
    "\n",
    "#### Please note that for any question in this assignment you will receive points ONLY if your solution passes all the test cases including hidden testcases as well. So please make sure you try to think all possible scenarios before submitting your answers.  \n",
    "- Note that hidden tests are present to ensure you are not hardcoding. \n",
    "- If caught cheating: \n",
    "    - you will receive a score of 0 for the 1st violation. \n",
    "    - for repeated incidents, you will receive an automatic 'F' grade and will be reported to the dean of Lally School of Management. "
   ]
  },
  {
   "cell_type": "markdown",
   "metadata": {
    "deletable": false,
    "editable": false,
    "nbgrader": {
     "cell_type": "markdown",
     "checksum": "bc4008beb4a0d06c26a898a3b2d8590b",
     "grade": false,
     "grade_id": "Datasets",
     "locked": true,
     "schema_version": 3,
     "solution": false,
     "task": false
    }
   },
   "source": [
    "Use the titanic dataset from this url ('https://raw.githubusercontent.com/rpi-techfundamentals/spring2019-materials/master/input/train.csv') and we will use the same dataset in some of the questions here below. "
   ]
  },
  {
   "cell_type": "markdown",
   "metadata": {
    "deletable": false,
    "editable": false,
    "nbgrader": {
     "cell_type": "markdown",
     "checksum": "41889fe74cdd94ca78917d453d443853",
     "grade": false,
     "grade_id": "Q1-desc",
     "locked": true,
     "schema_version": 3,
     "solution": false,
     "task": false
    }
   },
   "source": [
    "#### Q1. Shape of a Data Frame. \n",
    "1. Import pandas package as pd.\n",
    "2. Read the file from the 'url' and load the data into dataframe 'df' with default index.\n",
    "3. Set number of rows equal to the variable `rows` and the number of columns equal to the variable `cols`. \n",
    "4. Print out the number of rows and columns, clearly labeling each.\n",
    "\n"
   ]
  },
  {
   "cell_type": "code",
   "execution_count": 85,
   "metadata": {
    "deletable": false,
    "nbgrader": {
     "cell_type": "code",
     "checksum": "fcbf3f342cf445259bdf0b46b827a4ec",
     "grade": false,
     "grade_id": "Q1",
     "locked": false,
     "schema_version": 3,
     "solution": true,
     "task": false
    }
   },
   "outputs": [
    {
     "name": "stdout",
     "output_type": "stream",
     "text": [
      "891 12\n"
     ]
    }
   ],
   "source": [
    "\n",
    "url='https://raw.githubusercontent.com/rpi-techfundamentals/spring2019-materials/master/input/train.csv'\n",
    "\n",
    "# YOUR CODE HERE\n",
    "import pandas as pd\n",
    "df=pd.read_csv(url)\n",
    "rows=len(df.axes[0])\n",
    "cols=len(df.axes[1])\n",
    "print(rows,cols)"
   ]
  },
  {
   "cell_type": "code",
   "execution_count": 86,
   "metadata": {
    "deletable": false,
    "editable": false,
    "nbgrader": {
     "cell_type": "code",
     "checksum": "f51299ec66081a98b8cd1e8d7a5197c5",
     "grade": true,
     "grade_id": "Q1-Sol-a",
     "locked": true,
     "points": 3,
     "schema_version": 3,
     "solution": false,
     "task": false
    }
   },
   "outputs": [],
   "source": [
    "#DO NOT MODIFY/DELETE THIS CELL\n",
    "assert rows==891\n",
    "assert df['Age'].sum()==21205.17\n"
   ]
  },
  {
   "cell_type": "code",
   "execution_count": 87,
   "metadata": {
    "deletable": false,
    "editable": false,
    "nbgrader": {
     "cell_type": "code",
     "checksum": "9b3db6ef00c075652c57b69b4ef20ff5",
     "grade": true,
     "grade_id": "Q1-Sol-b",
     "locked": true,
     "points": 3,
     "schema_version": 3,
     "solution": false,
     "task": false
    }
   },
   "outputs": [],
   "source": [
    "#DO NOT MODIFY/DELETE THIS CELL"
   ]
  },
  {
   "cell_type": "markdown",
   "metadata": {
    "deletable": false,
    "editable": false,
    "nbgrader": {
     "cell_type": "markdown",
     "checksum": "b851ee4c306f297879f3c97a28b40e9b",
     "grade": false,
     "grade_id": "movingForward",
     "locked": true,
     "schema_version": 3,
     "solution": false,
     "task": false
    }
   },
   "source": [
    "Now we will be using the above dataframe df to do some preprocessing operations on this data. All the required libraries for further processing will be loaded here. "
   ]
  },
  {
   "cell_type": "code",
   "execution_count": 88,
   "metadata": {
    "deletable": false,
    "editable": false,
    "nbgrader": {
     "cell_type": "code",
     "checksum": "2fe00aa97f6aca123609835d6f518a83",
     "grade": false,
     "grade_id": "packages",
     "locked": true,
     "schema_version": 3,
     "solution": false,
     "task": false
    }
   },
   "outputs": [],
   "source": [
    "import numpy as np\n",
    "import pandas as pd\n",
    "import re\n",
    "from sklearn.model_selection import train_test_split"
   ]
  },
  {
   "cell_type": "markdown",
   "metadata": {
    "deletable": false,
    "editable": false,
    "nbgrader": {
     "cell_type": "markdown",
     "checksum": "12b865f74386264296f3ff57be2ea7ed",
     "grade": false,
     "grade_id": "Q2-desc",
     "locked": true,
     "schema_version": 3,
     "solution": false,
     "task": false
    }
   },
   "source": [
    "### Q2 Dataframe Basic Analyses\n",
    "Determine how many first, second, and third class (assiging to the variables `class1`, `class2`, `class3`) passangers there are. \n",
    "\n",
    "*Hint -- Use value_counts operation* \n",
    "\n"
   ]
  },
  {
   "cell_type": "code",
   "execution_count": 89,
   "metadata": {
    "deletable": false,
    "nbgrader": {
     "cell_type": "code",
     "checksum": "ef53b59407addb5f7004aa0d6e225a4d",
     "grade": false,
     "grade_id": "Q2",
     "locked": false,
     "schema_version": 3,
     "solution": true,
     "task": false
    }
   },
   "outputs": [],
   "source": [
    "#Your answer here. \n",
    "\n",
    "# YOUR CODE HERE\n",
    "class1=df['Pclass'].value_counts()[1]\n",
    "class2=df['Pclass'].value_counts()[2]\n",
    "class3=df['Pclass'].value_counts()[3]\n"
   ]
  },
  {
   "cell_type": "code",
   "execution_count": 90,
   "metadata": {
    "deletable": false,
    "editable": false,
    "nbgrader": {
     "cell_type": "code",
     "checksum": "907db8c5b16e12463683db88cf267d3b",
     "grade": true,
     "grade_id": "Q2-sol-a",
     "locked": true,
     "points": 3,
     "schema_version": 3,
     "solution": false,
     "task": false
    }
   },
   "outputs": [],
   "source": [
    "#DO NOT MODIFY/DELETE THIS CELL\n",
    "assert class1>0\n",
    "assert class2>0\n",
    "assert class3>0\n",
    "\n",
    "\n",
    "\n"
   ]
  },
  {
   "cell_type": "code",
   "execution_count": 91,
   "metadata": {
    "deletable": false,
    "editable": false,
    "nbgrader": {
     "cell_type": "code",
     "checksum": "11701c91bdae30267daccf00d2e3ef72",
     "grade": true,
     "grade_id": "Q2-sol-b",
     "locked": true,
     "points": 3,
     "schema_version": 3,
     "solution": false,
     "task": false
    }
   },
   "outputs": [],
   "source": [
    "#DO NOT MODIFY/DELETE THIS CELL"
   ]
  },
  {
   "cell_type": "markdown",
   "metadata": {
    "deletable": false,
    "editable": false,
    "nbgrader": {
     "cell_type": "markdown",
     "checksum": "e6d45de99ea7cf080a8f18aab833af64",
     "grade": false,
     "grade_id": "Q3-dec",
     "locked": true,
     "schema_version": 3,
     "solution": false,
     "task": false
    }
   },
   "source": [
    "### Q3 Groupby\n",
    "\n",
    "Now use a groupby statement to calculate the mean age (use the 'age' attribute) of passengers who are of different gender. \n",
    "\n",
    "Round the age to 2 decimal places (for example 3.14156 converts to 3.14 ) and assign the resulting variable to `female_age`, `male_age`.\n",
    "\n"
   ]
  },
  {
   "cell_type": "code",
   "execution_count": 92,
   "metadata": {
    "deletable": false,
    "nbgrader": {
     "cell_type": "code",
     "checksum": "50ae9afc17f4e0ba0d60b9c0ca78c0a5",
     "grade": false,
     "grade_id": "Q3",
     "locked": false,
     "schema_version": 3,
     "solution": true,
     "task": false
    }
   },
   "outputs": [],
   "source": [
    "#Your answer \n",
    "\n",
    "# YOUR CODE HERE\n",
    "a=float=df.groupby('Sex')['Age'].mean()['female']\n",
    "b=float=df.groupby('Sex')['Age'].mean()['male']\n",
    "female_age=round(a,2)\n",
    "male_age=round(b,2)"
   ]
  },
  {
   "cell_type": "code",
   "execution_count": 93,
   "metadata": {
    "deletable": false,
    "editable": false,
    "nbgrader": {
     "cell_type": "code",
     "checksum": "d2fae306bc497937dfd16a532f8c0d23",
     "grade": true,
     "grade_id": "Q3-sol-a",
     "locked": true,
     "points": 3,
     "schema_version": 3,
     "solution": false,
     "task": false
    }
   },
   "outputs": [],
   "source": [
    "#DO NOT MODIFY/DELETE THIS CELL\n",
    "assert female_age>0\n",
    "assert isinstance(female_age, np.floating)\n",
    "assert male_age>0 \n",
    "assert isinstance(male_age, np.floating)\n",
    "\n"
   ]
  },
  {
   "cell_type": "code",
   "execution_count": 94,
   "metadata": {
    "deletable": false,
    "editable": false,
    "nbgrader": {
     "cell_type": "code",
     "checksum": "51f6464a79b45f47bfbd4ecbd3c09d73",
     "grade": true,
     "grade_id": "Q3-sol-b",
     "locked": true,
     "points": 3,
     "schema_version": 3,
     "solution": false,
     "task": false
    }
   },
   "outputs": [],
   "source": [
    "#DO NOT MODIFY/DELETE THIS CELL"
   ]
  },
  {
   "cell_type": "markdown",
   "metadata": {
    "deletable": false,
    "editable": false,
    "nbgrader": {
     "cell_type": "markdown",
     "checksum": "16db0fbad1232e91c866b580f0362d78",
     "grade": false,
     "grade_id": "Q4-des",
     "locked": true,
     "schema_version": 3,
     "solution": false,
     "task": false
    }
   },
   "source": [
    "### Q4 Split Dataframe\n",
    "\n",
    "Now split the dataframe `df` into 3 different dataframes `dfclass1`, `dfclass2`, and `dfclass3` using the `Pclass` variable. \n",
    "\n"
   ]
  },
  {
   "cell_type": "code",
   "execution_count": 95,
   "metadata": {
    "deletable": false,
    "nbgrader": {
     "cell_type": "code",
     "checksum": "bfd4df7dcc57e764e8b4a65b4100c9da",
     "grade": false,
     "grade_id": "Q4",
     "locked": false,
     "schema_version": 3,
     "solution": true,
     "task": false
    }
   },
   "outputs": [
    {
     "name": "stdout",
     "output_type": "stream",
     "text": [
      "     PassengerId  Survived  Pclass  \\\n",
      "1              2         1       1   \n",
      "3              4         1       1   \n",
      "6              7         0       1   \n",
      "11            12         1       1   \n",
      "23            24         1       1   \n",
      "..           ...       ...     ...   \n",
      "871          872         1       1   \n",
      "872          873         0       1   \n",
      "879          880         1       1   \n",
      "887          888         1       1   \n",
      "889          890         1       1   \n",
      "\n",
      "                                                  Name     Sex   Age  SibSp  \\\n",
      "1    Cumings, Mrs. John Bradley (Florence Briggs Th...  female  38.0      1   \n",
      "3         Futrelle, Mrs. Jacques Heath (Lily May Peel)  female  35.0      1   \n",
      "6                              McCarthy, Mr. Timothy J    male  54.0      0   \n",
      "11                            Bonnell, Miss. Elizabeth  female  58.0      0   \n",
      "23                        Sloper, Mr. William Thompson    male  28.0      0   \n",
      "..                                                 ...     ...   ...    ...   \n",
      "871   Beckwith, Mrs. Richard Leonard (Sallie Monypeny)  female  47.0      1   \n",
      "872                           Carlsson, Mr. Frans Olof    male  33.0      0   \n",
      "879      Potter, Mrs. Thomas Jr (Lily Alexenia Wilson)  female  56.0      0   \n",
      "887                       Graham, Miss. Margaret Edith  female  19.0      0   \n",
      "889                              Behr, Mr. Karl Howell    male  26.0      0   \n",
      "\n",
      "     Parch    Ticket     Fare        Cabin Embarked  \n",
      "1        0  PC 17599  71.2833          C85        C  \n",
      "3        0    113803  53.1000         C123        S  \n",
      "6        0     17463  51.8625          E46        S  \n",
      "11       0    113783  26.5500         C103        S  \n",
      "23       0    113788  35.5000           A6        S  \n",
      "..     ...       ...      ...          ...      ...  \n",
      "871      1     11751  52.5542          D35        S  \n",
      "872      0       695   5.0000  B51 B53 B55        S  \n",
      "879      1     11767  83.1583          C50        C  \n",
      "887      0    112053  30.0000          B42        S  \n",
      "889      0    111369  30.0000         C148        C  \n",
      "\n",
      "[216 rows x 12 columns]      PassengerId  Survived  Pclass  \\\n",
      "9             10         1       2   \n",
      "15            16         1       2   \n",
      "17            18         1       2   \n",
      "20            21         0       2   \n",
      "21            22         1       2   \n",
      "..           ...       ...     ...   \n",
      "866          867         1       2   \n",
      "874          875         1       2   \n",
      "880          881         1       2   \n",
      "883          884         0       2   \n",
      "886          887         0       2   \n",
      "\n",
      "                                             Name     Sex   Age  SibSp  Parch  \\\n",
      "9             Nasser, Mrs. Nicholas (Adele Achem)  female  14.0      1      0   \n",
      "15               Hewlett, Mrs. (Mary D Kingcome)   female  55.0      0      0   \n",
      "17                   Williams, Mr. Charles Eugene    male   NaN      0      0   \n",
      "20                           Fynney, Mr. Joseph J    male  35.0      0      0   \n",
      "21                          Beesley, Mr. Lawrence    male  34.0      0      0   \n",
      "..                                            ...     ...   ...    ...    ...   \n",
      "866                  Duran y More, Miss. Asuncion  female  27.0      1      0   \n",
      "874         Abelson, Mrs. Samuel (Hannah Wizosky)  female  28.0      1      0   \n",
      "880  Shelley, Mrs. William (Imanita Parrish Hall)  female  25.0      0      1   \n",
      "883                 Banfield, Mr. Frederick James    male  28.0      0      0   \n",
      "886                         Montvila, Rev. Juozas    male  27.0      0      0   \n",
      "\n",
      "               Ticket     Fare Cabin Embarked  \n",
      "9              237736  30.0708   NaN        C  \n",
      "15             248706  16.0000   NaN        S  \n",
      "17             244373  13.0000   NaN        S  \n",
      "20             239865  26.0000   NaN        S  \n",
      "21             248698  13.0000   D56        S  \n",
      "..                ...      ...   ...      ...  \n",
      "866     SC/PARIS 2149  13.8583   NaN        C  \n",
      "874         P/PP 3381  24.0000   NaN        C  \n",
      "880            230433  26.0000   NaN        S  \n",
      "883  C.A./SOTON 34068  10.5000   NaN        S  \n",
      "886            211536  13.0000   NaN        S  \n",
      "\n",
      "[184 rows x 12 columns]      PassengerId  Survived  Pclass                                      Name  \\\n",
      "0              1         0       3                   Braund, Mr. Owen Harris   \n",
      "2              3         1       3                    Heikkinen, Miss. Laina   \n",
      "4              5         0       3                  Allen, Mr. William Henry   \n",
      "5              6         0       3                          Moran, Mr. James   \n",
      "7              8         0       3            Palsson, Master. Gosta Leonard   \n",
      "..           ...       ...     ...                                       ...   \n",
      "882          883         0       3              Dahlberg, Miss. Gerda Ulrika   \n",
      "884          885         0       3                    Sutehall, Mr. Henry Jr   \n",
      "885          886         0       3      Rice, Mrs. William (Margaret Norton)   \n",
      "888          889         0       3  Johnston, Miss. Catherine Helen \"Carrie\"   \n",
      "890          891         0       3                       Dooley, Mr. Patrick   \n",
      "\n",
      "        Sex   Age  SibSp  Parch            Ticket     Fare Cabin Embarked  \n",
      "0      male  22.0      1      0         A/5 21171   7.2500   NaN        S  \n",
      "2    female  26.0      0      0  STON/O2. 3101282   7.9250   NaN        S  \n",
      "4      male  35.0      0      0            373450   8.0500   NaN        S  \n",
      "5      male   NaN      0      0            330877   8.4583   NaN        Q  \n",
      "7      male   2.0      3      1            349909  21.0750   NaN        S  \n",
      "..      ...   ...    ...    ...               ...      ...   ...      ...  \n",
      "882  female  22.0      0      0              7552  10.5167   NaN        S  \n",
      "884    male  25.0      0      0   SOTON/OQ 392076   7.0500   NaN        S  \n",
      "885  female  39.0      0      5            382652  29.1250   NaN        Q  \n",
      "888  female   NaN      1      2        W./C. 6607  23.4500   NaN        S  \n",
      "890    male  32.0      0      0            370376   7.7500   NaN        Q  \n",
      "\n",
      "[491 rows x 12 columns]\n"
     ]
    }
   ],
   "source": [
    "#Your answer\n",
    "\n",
    "# YOUR CODE HERE\n",
    "Pclass=df.groupby('Pclass')\n",
    "dfclass1=Pclass.get_group(1)\n",
    "dfclass2=Pclass.get_group(2)\n",
    "dfclass3=Pclass.get_group(3)\n",
    "print(dfclass1,dfclass2,dfclass3)\n"
   ]
  },
  {
   "cell_type": "code",
   "execution_count": 96,
   "metadata": {
    "deletable": false,
    "editable": false,
    "nbgrader": {
     "cell_type": "code",
     "checksum": "1dc9b75e775fb938c64a7ef077f448d9",
     "grade": true,
     "grade_id": "Q4-sol-a",
     "locked": true,
     "points": 2,
     "schema_version": 3,
     "solution": false,
     "task": false
    }
   },
   "outputs": [],
   "source": [
    "#DO NOT MODIFY/DELETE THIS CELL\n",
    "assert len(dfclass1)>0\n",
    "assert len(dfclass2)>0\n",
    "assert len(dfclass3)>0\n",
    "assert isinstance(dfclass1, pd.DataFrame)\n",
    "assert isinstance(dfclass2, pd.DataFrame)\n",
    "assert isinstance(dfclass3, pd.DataFrame)\n"
   ]
  },
  {
   "cell_type": "code",
   "execution_count": 97,
   "metadata": {
    "deletable": false,
    "editable": false,
    "nbgrader": {
     "cell_type": "code",
     "checksum": "3012c1fe0a18938b72e449ff2ed645ac",
     "grade": true,
     "grade_id": "Q4-sol-b1",
     "locked": true,
     "points": 2,
     "schema_version": 3,
     "solution": false,
     "task": false
    }
   },
   "outputs": [],
   "source": [
    "#DO NOT MODIFY/DELETE THIS CELL"
   ]
  },
  {
   "cell_type": "code",
   "execution_count": 98,
   "metadata": {
    "deletable": false,
    "editable": false,
    "nbgrader": {
     "cell_type": "code",
     "checksum": "2fe48ef37a998e3bada722cd2df295fd",
     "grade": true,
     "grade_id": "Q4-sol-b2",
     "locked": true,
     "points": 2,
     "schema_version": 3,
     "solution": false,
     "task": false
    }
   },
   "outputs": [],
   "source": [
    "#DO NOT MODIFY/DELETE THIS CELL"
   ]
  },
  {
   "cell_type": "code",
   "execution_count": 99,
   "metadata": {
    "deletable": false,
    "editable": false,
    "nbgrader": {
     "cell_type": "code",
     "checksum": "df9d248ac63e2cf43e89db02b802a5a1",
     "grade": true,
     "grade_id": "Q4-sol-b3",
     "locked": true,
     "points": 2,
     "schema_version": 3,
     "solution": false,
     "task": false
    }
   },
   "outputs": [],
   "source": [
    "#DO NOT MODIFY/DELETE THIS CELL"
   ]
  },
  {
   "cell_type": "markdown",
   "metadata": {},
   "source": [
    "#### Q5 Filter Missing Values\n",
    "\n",
    "Create a new dataframe `dfna1` from `df` which removes all rows in which *any* of the variables are missing.\n",
    "\n",
    "Create a new dataframe `dfna2` from `df` which removes all rows in which *all* of the variables `Age` and `Cabin` are missing."
   ]
  },
  {
   "cell_type": "code",
   "execution_count": 100,
   "metadata": {
    "deletable": false,
    "nbgrader": {
     "cell_type": "code",
     "checksum": "fe479e8a9c62ce80d420f330b3194cd0",
     "grade": false,
     "grade_id": "Q5",
     "locked": false,
     "schema_version": 3,
     "solution": true,
     "task": false
    }
   },
   "outputs": [
    {
     "name": "stdout",
     "output_type": "stream",
     "text": [
      "     PassengerId  Survived  Pclass  \\\n",
      "1              2         1       1   \n",
      "3              4         1       1   \n",
      "6              7         0       1   \n",
      "10            11         1       3   \n",
      "11            12         1       1   \n",
      "..           ...       ...     ...   \n",
      "871          872         1       1   \n",
      "872          873         0       1   \n",
      "879          880         1       1   \n",
      "887          888         1       1   \n",
      "889          890         1       1   \n",
      "\n",
      "                                                  Name     Sex   Age  SibSp  \\\n",
      "1    Cumings, Mrs. John Bradley (Florence Briggs Th...  female  38.0      1   \n",
      "3         Futrelle, Mrs. Jacques Heath (Lily May Peel)  female  35.0      1   \n",
      "6                              McCarthy, Mr. Timothy J    male  54.0      0   \n",
      "10                     Sandstrom, Miss. Marguerite Rut  female   4.0      1   \n",
      "11                            Bonnell, Miss. Elizabeth  female  58.0      0   \n",
      "..                                                 ...     ...   ...    ...   \n",
      "871   Beckwith, Mrs. Richard Leonard (Sallie Monypeny)  female  47.0      1   \n",
      "872                           Carlsson, Mr. Frans Olof    male  33.0      0   \n",
      "879      Potter, Mrs. Thomas Jr (Lily Alexenia Wilson)  female  56.0      0   \n",
      "887                       Graham, Miss. Margaret Edith  female  19.0      0   \n",
      "889                              Behr, Mr. Karl Howell    male  26.0      0   \n",
      "\n",
      "     Parch    Ticket     Fare        Cabin Embarked  \n",
      "1        0  PC 17599  71.2833          C85        C  \n",
      "3        0    113803  53.1000         C123        S  \n",
      "6        0     17463  51.8625          E46        S  \n",
      "10       1   PP 9549  16.7000           G6        S  \n",
      "11       0    113783  26.5500         C103        S  \n",
      "..     ...       ...      ...          ...      ...  \n",
      "871      1     11751  52.5542          D35        S  \n",
      "872      0       695   5.0000  B51 B53 B55        S  \n",
      "879      1     11767  83.1583          C50        C  \n",
      "887      0    112053  30.0000          B42        S  \n",
      "889      0    111369  30.0000         C148        C  \n",
      "\n",
      "[183 rows x 12 columns]      PassengerId  Survived  Pclass  \\\n",
      "0              1         0       3   \n",
      "1              2         1       1   \n",
      "2              3         1       3   \n",
      "3              4         1       1   \n",
      "4              5         0       3   \n",
      "..           ...       ...     ...   \n",
      "886          887         0       2   \n",
      "887          888         1       1   \n",
      "888          889         0       3   \n",
      "889          890         1       1   \n",
      "890          891         0       3   \n",
      "\n",
      "                                                  Name     Sex  SibSp  Parch  \\\n",
      "0                              Braund, Mr. Owen Harris    male      1      0   \n",
      "1    Cumings, Mrs. John Bradley (Florence Briggs Th...  female      1      0   \n",
      "2                               Heikkinen, Miss. Laina  female      0      0   \n",
      "3         Futrelle, Mrs. Jacques Heath (Lily May Peel)  female      1      0   \n",
      "4                             Allen, Mr. William Henry    male      0      0   \n",
      "..                                                 ...     ...    ...    ...   \n",
      "886                              Montvila, Rev. Juozas    male      0      0   \n",
      "887                       Graham, Miss. Margaret Edith  female      0      0   \n",
      "888           Johnston, Miss. Catherine Helen \"Carrie\"  female      1      2   \n",
      "889                              Behr, Mr. Karl Howell    male      0      0   \n",
      "890                                Dooley, Mr. Patrick    male      0      0   \n",
      "\n",
      "               Ticket     Fare Embarked  \n",
      "0           A/5 21171   7.2500        S  \n",
      "1            PC 17599  71.2833        C  \n",
      "2    STON/O2. 3101282   7.9250        S  \n",
      "3              113803  53.1000        S  \n",
      "4              373450   8.0500        S  \n",
      "..                ...      ...      ...  \n",
      "886            211536  13.0000        S  \n",
      "887            112053  30.0000        S  \n",
      "888        W./C. 6607  23.4500        S  \n",
      "889            111369  30.0000        C  \n",
      "890            370376   7.7500        Q  \n",
      "\n",
      "[891 rows x 10 columns]\n"
     ]
    }
   ],
   "source": [
    "\n",
    "# YOUR CODE HERE\n",
    "dfna1=df.dropna()\n",
    "dfna2=df.drop(['Age','Cabin'],axis=1)\n",
    "print(dfna1,dfna2)\n"
   ]
  },
  {
   "cell_type": "code",
   "execution_count": 101,
   "metadata": {
    "deletable": false,
    "editable": false,
    "nbgrader": {
     "cell_type": "code",
     "checksum": "d0882dd9bd4a1b25c3d7f7f49a1a0605",
     "grade": true,
     "grade_id": "Q5-sol",
     "locked": true,
     "points": 2,
     "schema_version": 3,
     "solution": false,
     "task": false
    }
   },
   "outputs": [],
   "source": [
    "assert len(dfna1)>0\n",
    "assert len(dfna2)>0\n",
    "assert isinstance(dfna1, pd.DataFrame)\n",
    "assert isinstance(dfna2, pd.DataFrame)"
   ]
  },
  {
   "cell_type": "code",
   "execution_count": 102,
   "metadata": {
    "deletable": false,
    "editable": false,
    "nbgrader": {
     "cell_type": "code",
     "checksum": "243817df2f698bac3fee5c82ce5b0e9d",
     "grade": true,
     "grade_id": "Q5-sol-1",
     "locked": true,
     "points": 2,
     "schema_version": 3,
     "solution": false,
     "task": false
    }
   },
   "outputs": [],
   "source": [
    "#DO NOT MODIFY/DELETE THIS CELL"
   ]
  },
  {
   "cell_type": "code",
   "execution_count": 103,
   "metadata": {
    "deletable": false,
    "editable": false,
    "nbgrader": {
     "cell_type": "code",
     "checksum": "c91489f9b93cb28a2d600ea1bd6a9f43",
     "grade": true,
     "grade_id": "Q5-sol-2",
     "locked": true,
     "points": 2,
     "schema_version": 3,
     "solution": false,
     "task": false
    }
   },
   "outputs": [],
   "source": [
    "#DO NOT MODIFY/DELETE THIS CELL"
   ]
  },
  {
   "cell_type": "markdown",
   "metadata": {
    "deletable": false,
    "editable": false,
    "nbgrader": {
     "cell_type": "markdown",
     "checksum": "cac27828335c4e5ebea4aa1ee11c8bd5",
     "grade": false,
     "grade_id": "Q6-des",
     "locked": true,
     "schema_version": 3,
     "solution": false,
     "task": false
    }
   },
   "source": [
    "### Q6 Stratified sampling \n",
    "\n",
    "Utilize the original dataframe 'df'.  \n",
    "\n",
    "1. Set the `y` variable to the `Survived` column.\n",
    "2. Set X to the `SibSp`,`Parch`, and `Fare` columns of the dataframe. \n",
    "3. Create `train_X`, `test_X`, `train_y`, `test_y` by doing a 50% 50% split with stratification by the `Survived` varaible. Use `random_state` equal to 123. \n"
   ]
  },
  {
   "cell_type": "code",
   "execution_count": 104,
   "metadata": {
    "deletable": false,
    "nbgrader": {
     "cell_type": "code",
     "checksum": "c65dbcb48ad8cae97322f4d9edba9440",
     "grade": false,
     "grade_id": "Q6",
     "locked": false,
     "schema_version": 3,
     "solution": true,
     "task": false
    }
   },
   "outputs": [
    {
     "name": "stdout",
     "output_type": "stream",
     "text": [
      "     SibSp  Parch     Fare\n",
      "148      0      2  26.0000\n",
      "378      0      0   4.0125\n",
      "561      0      0   7.8958\n",
      "859      0      0   7.2292\n",
      "105      0      0   7.8958\n",
      "..     ...    ...      ...\n",
      "98       0      1  23.0000\n",
      "322      0      0  12.3500\n",
      "382      0      0   7.9250\n",
      "365      0      0   7.2500\n",
      "510      0      0   7.7500\n",
      "\n",
      "[445 rows x 3 columns]      SibSp  Parch      Fare\n",
      "172      1      1   11.1333\n",
      "524      0      0    7.2292\n",
      "452      0      0   27.7500\n",
      "170      0      0   33.5000\n",
      "620      1      0   14.4542\n",
      "..     ...    ...       ...\n",
      "563      0      0    8.0500\n",
      "379      0      0    7.7750\n",
      "542      4      2   31.2750\n",
      "282      0      0    9.5000\n",
      "779      0      1  211.3375\n",
      "\n",
      "[446 rows x 3 columns] 148    0\n",
      "378    0\n",
      "561    0\n",
      "859    0\n",
      "105    0\n",
      "      ..\n",
      "98     1\n",
      "322    1\n",
      "382    0\n",
      "365    0\n",
      "510    1\n",
      "Name: Survived, Length: 445, dtype: int64 172    1\n",
      "524    0\n",
      "452    0\n",
      "170    0\n",
      "620    0\n",
      "      ..\n",
      "563    0\n",
      "379    0\n",
      "542    0\n",
      "282    0\n",
      "779    1\n",
      "Name: Survived, Length: 446, dtype: int64\n"
     ]
    }
   ],
   "source": [
    "#Your answer\n",
    "\n",
    "# YOUR CODE HERE\n",
    "y=df['Survived']\n",
    "X=df[['SibSp','Parch','Fare']]\n",
    "train_X,test_X,train_y,test_y=train_test_split(X,y,train_size=0.5,test_size=0.5,random_state=123)\n",
    "print(train_X,test_X,train_y,test_y)"
   ]
  },
  {
   "cell_type": "code",
   "execution_count": 105,
   "metadata": {
    "deletable": false,
    "editable": false,
    "nbgrader": {
     "cell_type": "code",
     "checksum": "ddf16d2f1f85c2244eabd494d147d6b8",
     "grade": true,
     "grade_id": "Q6-sol",
     "locked": true,
     "points": 2,
     "schema_version": 3,
     "solution": false,
     "task": false
    }
   },
   "outputs": [],
   "source": [
    "#DO NOT MODIFY/DELETE THIS CELL\n",
    "assert len(train_X)>0\n",
    "assert len(test_X)>0\n",
    "assert isinstance(train_X, pd.DataFrame)\n",
    "assert isinstance(test_X, pd.DataFrame)\n",
    "assert isinstance(train_y, pd.Series)\n",
    "assert isinstance(test_y, pd.Series)"
   ]
  },
  {
   "cell_type": "code",
   "execution_count": 106,
   "metadata": {
    "deletable": false,
    "editable": false,
    "nbgrader": {
     "cell_type": "code",
     "checksum": "feac72d398e24c106e63fc76298dafb6",
     "grade": true,
     "grade_id": "Q6-sol-1",
     "locked": true,
     "points": 2,
     "schema_version": 3,
     "solution": false,
     "task": false
    }
   },
   "outputs": [],
   "source": [
    "#DO NOT MODIFY/DELETE THIS CELL"
   ]
  },
  {
   "cell_type": "code",
   "execution_count": 107,
   "metadata": {
    "deletable": false,
    "editable": false,
    "nbgrader": {
     "cell_type": "code",
     "checksum": "0cad0b7323c9513178d0ed9a05646f5f",
     "grade": true,
     "grade_id": "Q6-sol-2",
     "locked": true,
     "points": 2,
     "schema_version": 3,
     "solution": false,
     "task": false
    }
   },
   "outputs": [],
   "source": [
    "#DO NOT MODIFY/DELETE THIS CELL"
   ]
  },
  {
   "cell_type": "code",
   "execution_count": 108,
   "metadata": {
    "deletable": false,
    "editable": false,
    "nbgrader": {
     "cell_type": "code",
     "checksum": "0b5037d892de0494a347a9761d73ae2c",
     "grade": true,
     "grade_id": "Q6-sol-3",
     "locked": true,
     "points": 2,
     "schema_version": 3,
     "solution": false,
     "task": false
    }
   },
   "outputs": [],
   "source": [
    "#DO NOT MODIFY/DELETE THIS CELL"
   ]
  },
  {
   "cell_type": "markdown",
   "metadata": {
    "deletable": false,
    "editable": false,
    "nbgrader": {
     "cell_type": "markdown",
     "checksum": "46ba8bc9ef6bd2da8e649b4a6f667930",
     "grade": false,
     "grade_id": "Q7-dec",
     "locked": true,
     "schema_version": 3,
     "solution": false,
     "task": false
    }
   },
   "source": [
    "#### Q7  Feature Manipulation\n",
    "1. Consider the original dataframe `df`. Create a copy of this and call it `dfage`.\n",
    "2. Remove all the rows of `dfage` in which the `Age` value is missing. \n",
    "3. Then create a new column `dfage['Age_st']` which replaces each value in the 'age' attribute with the corresponding standardized value *rounded to 2 decimal places*. You are not modifying `dfage['Age']`.\n",
    "\n",
    "\n",
    "*Hint: See this for definition of standardized value.  [https://en.wikipedia.org/wiki/Standard_score](https://en.wikipedia.org/wiki/Standard_score) You can use np.mean() and np.std() functions to compute the mean and standard deviation values.*"
   ]
  },
  {
   "cell_type": "code",
   "execution_count": 109,
   "metadata": {
    "deletable": false,
    "nbgrader": {
     "cell_type": "code",
     "checksum": "54231f2dd43d2644b6ad6ed393c46132",
     "grade": false,
     "grade_id": "Q7",
     "locked": false,
     "schema_version": 3,
     "solution": true,
     "task": false
    }
   },
   "outputs": [
    {
     "name": "stdout",
     "output_type": "stream",
     "text": [
      "0      19.96\n",
      "1      35.96\n",
      "2      23.96\n",
      "3      32.96\n",
      "4      32.96\n",
      "       ...  \n",
      "886    24.96\n",
      "887    16.96\n",
      "888      NaN\n",
      "889    23.96\n",
      "890    29.96\n",
      "Name: Age_st, Length: 891, dtype: float64\n"
     ]
    }
   ],
   "source": [
    "\n",
    "# YOUR CODE HERE\n",
    "dfage=df.copy()\n",
    "dfage=df.drop(['Age'],axis=1)\n",
    "a=(df['Age']-df['Age'].mean()/df['Age'].std())\n",
    "dfage['Age_st']=round(a,2)\n",
    "print(dfage['Age_st'])"
   ]
  },
  {
   "cell_type": "code",
   "execution_count": 110,
   "metadata": {
    "deletable": false,
    "editable": false,
    "nbgrader": {
     "cell_type": "code",
     "checksum": "34bd68123c7abd36cdd3109a1b410709",
     "grade": true,
     "grade_id": "Q7-sol",
     "locked": true,
     "points": 4,
     "schema_version": 3,
     "solution": false,
     "task": false
    }
   },
   "outputs": [],
   "source": [
    "assert len(dfage)>0\n",
    "assert isinstance(dfage, pd.DataFrame)\n",
    "assert 'Age_st' in dfage.columns\n",
    "\n"
   ]
  },
  {
   "cell_type": "code",
   "execution_count": 111,
   "metadata": {
    "deletable": false,
    "editable": false,
    "nbgrader": {
     "cell_type": "code",
     "checksum": "c13561d7b627d833df7152700b0c21a1",
     "grade": true,
     "grade_id": "Q7-sol-1",
     "locked": true,
     "points": 2,
     "schema_version": 3,
     "solution": false,
     "task": false
    }
   },
   "outputs": [],
   "source": [
    "#DO NOT MODIFY/DELETE THIS CELL"
   ]
  },
  {
   "cell_type": "code",
   "execution_count": 112,
   "metadata": {
    "deletable": false,
    "editable": false,
    "nbgrader": {
     "cell_type": "code",
     "checksum": "2173307e7bb5e2344fe032fd144b0b7a",
     "grade": true,
     "grade_id": "Q7-sol-2",
     "locked": true,
     "points": 2,
     "schema_version": 3,
     "solution": false,
     "task": false
    }
   },
   "outputs": [],
   "source": [
    "#DO NOT MODIFY/DELETE THIS CELL"
   ]
  },
  {
   "cell_type": "code",
   "execution_count": 113,
   "metadata": {
    "deletable": false,
    "editable": false,
    "nbgrader": {
     "cell_type": "code",
     "checksum": "54f5c8c9a3ad1e4fe515b919069cdded",
     "grade": true,
     "grade_id": "Q7-sol-3",
     "locked": true,
     "points": 2,
     "schema_version": 3,
     "solution": false,
     "task": false
    }
   },
   "outputs": [],
   "source": [
    "#DO NOT MODIFY/DELETE THIS CELL"
   ]
  },
  {
   "cell_type": "markdown",
   "metadata": {
    "deletable": false,
    "editable": false,
    "nbgrader": {
     "cell_type": "markdown",
     "checksum": "5039f535a3a0ac9602853035b2bf95ea",
     "grade": false,
     "grade_id": "Q8-desc",
     "locked": true,
     "schema_version": 3,
     "solution": false,
     "task": false
    }
   },
   "source": [
    "#### Q8 Feature Creation 2\n",
    "1. Create a copy of df called `df8`.\n",
    "2. In `df8` create a feature called `stown` using `Embarked`.  \n",
    "\n",
    "    For the `Embarked` is 'S' make `stown` 1. \n",
    "    \n",
    "    Otherwise `stown` is 0."
   ]
  },
  {
   "cell_type": "code",
   "execution_count": 114,
   "metadata": {
    "deletable": false,
    "nbgrader": {
     "cell_type": "code",
     "checksum": "eeec8a760741f176b6aabe886bd9efc2",
     "grade": false,
     "grade_id": "Q8",
     "locked": false,
     "schema_version": 3,
     "solution": true,
     "task": false
    }
   },
   "outputs": [],
   "source": [
    "\n",
    "# YOUR CODE HERE\n",
    "df8=df.copy()\n",
    "df8['stown']=df['Embarked'].copy()\n",
    "df8['stown']=df8['Embarked'].apply(lambda x:1 if x=='S' else 0)"
   ]
  },
  {
   "cell_type": "code",
   "execution_count": 115,
   "metadata": {
    "deletable": false,
    "editable": false,
    "nbgrader": {
     "cell_type": "code",
     "checksum": "86a4524fede79b3c816b7e04830ec680",
     "grade": true,
     "grade_id": "Q8-sol-1",
     "locked": true,
     "points": 3,
     "schema_version": 3,
     "solution": false,
     "task": false
    }
   },
   "outputs": [],
   "source": [
    "#DO NOT MODIFY/DELETE THIS CELL\n",
    "assert set(df8['stown'])=={0,1}\n",
    "assert df8.shape==(891, 13)\n"
   ]
  },
  {
   "cell_type": "code",
   "execution_count": 116,
   "metadata": {
    "deletable": false,
    "editable": false,
    "nbgrader": {
     "cell_type": "code",
     "checksum": "fba7ced03b5133b3c64f5fb552a336bb",
     "grade": true,
     "grade_id": "Q8-sol-2",
     "locked": true,
     "points": 3,
     "schema_version": 3,
     "solution": false,
     "task": false
    }
   },
   "outputs": [],
   "source": [
    "#DO NOT MODIFY/DELETE THIS CELL"
   ]
  },
  {
   "cell_type": "markdown",
   "metadata": {
    "deletable": false,
    "editable": false,
    "nbgrader": {
     "cell_type": "markdown",
     "checksum": "d6d33c552ed4058db60561aa52c3d496",
     "grade": false,
     "grade_id": "Q9-des",
     "locked": true,
     "schema_version": 3,
     "solution": false,
     "task": false
    }
   },
   "source": [
    "### Q9. Beautiful Soup\n",
    "Use the html content shared here below and parse it using the 'soup' object to \n",
    "assign all the unique 'Hometown' values to as a list object `hts`\n",
    "\n",
    "\n",
    "Strip any leading or trailing white space and convert each value of the hometown in `hts` to a lower-case.\n",
    "\n",
    "\n",
    "Print the final answer."
   ]
  },
  {
   "cell_type": "code",
   "execution_count": 117,
   "metadata": {
    "deletable": false,
    "nbgrader": {
     "cell_type": "code",
     "checksum": "aed2afddc547197356c74c899d0f2f5e",
     "grade": false,
     "grade_id": "Q9",
     "locked": false,
     "schema_version": 3,
     "solution": true,
     "task": false
    }
   },
   "outputs": [
    {
     "name": "stdout",
     "output_type": "stream",
     "text": [
      "['johnstown', 'pittston']\n"
     ]
    }
   ],
   "source": [
    "\n",
    "\n",
    "import requests\n",
    "from bs4 import BeautifulSoup\n",
    "import operator\n",
    "import pandas as pd\n",
    "import json\n",
    "newtext = \"\"\"\n",
    "<p>\n",
    "    <strong class=\"person1\">YOB:</strong> 1990<br />\n",
    "    <strong class=\"person1\">GENDER:</strong> FEMALE<br />\n",
    "    <strong class=\"person1\">EYE COLOR:</strong> GREEN<br />\n",
    "    <strong class=\"person1\">HAIR COLOR:</strong> BROWN<br />\n",
    "    <strong class=\"person1\">GPA:</strong> 4<br />\n",
    "    <strong class=\"person1\">Hometown:</strong> Johnstown<br />\n",
    "</p>\n",
    "\n",
    "<p>\n",
    "    <strong class=\"person2\">YOB:</strong> 1993<br />\n",
    "    <strong class=\"person2\">GENDER:</strong> FEMALE<br />\n",
    "    <strong class=\"person2\">EYE COLOR:</strong> BROWN<br />\n",
    "    <strong class=\"person2\">HAIR COLOR:</strong> BLACK<br />\n",
    "    <strong class=\"person2\">GPA:</strong> 3.5<br />\n",
    "    <strong class=\"person2\">Hometown:</strong> Pittston<br />\n",
    "</p>\n",
    "\n",
    "\"\"\"\n",
    "hts=[]\n",
    "soup = BeautifulSoup(newtext)\n",
    "# YOUR CODE HERE\n",
    "s=soup.findAll('p')[0].get_text().lower()\n",
    "s=s.split('\\n')\n",
    "hts.append(s[6].split(' ')[1])\n",
    "t=soup.findAll('p')[1].get_text().lower()\n",
    "t=t.split('\\n')\n",
    "hts.append(t[6].split(' ')[1])\n",
    "print(hts)"
   ]
  },
  {
   "cell_type": "code",
   "execution_count": 118,
   "metadata": {
    "deletable": false,
    "editable": false,
    "nbgrader": {
     "cell_type": "code",
     "checksum": "fd574e607184acb207ea1c77d47cfac6",
     "grade": true,
     "grade_id": "Q9-sol",
     "locked": true,
     "points": 4,
     "schema_version": 3,
     "solution": false,
     "task": false
    }
   },
   "outputs": [],
   "source": [
    "#DO NOT MODIFY/DELETE THIS CELL\n",
    "assert len(hts)==2\n",
    "assert hts==['johnstown', 'pittston']"
   ]
  },
  {
   "cell_type": "markdown",
   "metadata": {
    "deletable": false,
    "editable": false,
    "nbgrader": {
     "cell_type": "markdown",
     "checksum": "90bece27d8dd39369734d5dfa361d152",
     "grade": false,
     "grade_id": "Q10-des",
     "locked": true,
     "schema_version": 3,
     "solution": false,
     "task": false
    }
   },
   "source": [
    "### Q10 String operations\n",
    "\n",
    "1. Given a string `str10` first split the string into words, strip any leading or trailing white space, and convert them to lowercase. \n",
    "2. Now using the 'join' operation we learnt in the class, concatenate these words to a new string `str11` with a '-' between each.\n",
    "\n",
    "For example: str1 is 'it is cold today' to str2 will be: 'it-is-cold-today'\n"
   ]
  },
  {
   "cell_type": "code",
   "execution_count": 119,
   "metadata": {
    "deletable": false,
    "nbgrader": {
     "cell_type": "code",
     "checksum": "16b5137813a21d97fa20ab587edc7933",
     "grade": false,
     "grade_id": "Q10",
     "locked": false,
     "schema_version": 3,
     "solution": true,
     "task": false
    }
   },
   "outputs": [
    {
     "name": "stdout",
     "output_type": "stream",
     "text": [
      "['email', 'the', 'company', 'at', 'xyz@abcd.com', 'and', 'is', 'the', 'easiest', 'way', 'compared', 'to', 'tweet', '@abcdxyz'] email-the-company-at-xyz@abcd.com-and-is-the-easiest-way-compared-to-tweet-@abcdxyz\n"
     ]
    }
   ],
   "source": [
    "\n",
    "str10 = 'Email the company at xyz@abcd.com and is the easiest way compared to tweet @abcdxyz'\n",
    "# YOUR CODE HERE\n",
    "str10=str10.lower()\n",
    "\n",
    "str10=str10.split()\n",
    "\n",
    "str11= '-'.join(str10)\n",
    "print(str10,str11)\n"
   ]
  },
  {
   "cell_type": "code",
   "execution_count": 120,
   "metadata": {
    "deletable": false,
    "editable": false,
    "nbgrader": {
     "cell_type": "code",
     "checksum": "b733652a3aaa75ae59dc69cb67d65589",
     "grade": true,
     "grade_id": "Q10-sol",
     "locked": true,
     "points": 2,
     "schema_version": 3,
     "solution": false,
     "task": false
    }
   },
   "outputs": [],
   "source": [
    "#DO NOT MODIFY/DELETE THIS CELL\n",
    "assert len(str11)==83\n"
   ]
  },
  {
   "cell_type": "code",
   "execution_count": 121,
   "metadata": {
    "deletable": false,
    "editable": false,
    "nbgrader": {
     "cell_type": "code",
     "checksum": "42a396d18ffa73b99676c26566ba7357",
     "grade": true,
     "grade_id": "Q10-sol-2",
     "locked": true,
     "points": 2,
     "schema_version": 3,
     "solution": false,
     "task": false
    }
   },
   "outputs": [],
   "source": [
    "#DO NOT MODIFY/DELETE THIS CELL"
   ]
  },
  {
   "cell_type": "markdown",
   "metadata": {
    "deletable": false,
    "editable": false,
    "nbgrader": {
     "cell_type": "markdown",
     "checksum": "c6d87e4c00d8aacd2421112f51681184",
     "grade": false,
     "grade_id": "Q11-des",
     "locked": true,
     "schema_version": 3,
     "solution": false,
     "task": false
    }
   },
   "source": [
    "### Q11. Regular Expressions\n",
    "\n",
    "Create a function called `extract_email` which uses the regular expressions package to extract all the email ids mentioned in a sentence.\n",
    "\n",
    "For example:\n",
    "\n",
    "extract_email('Email the company at jondow@franks.com today.')\n",
    "\n",
    "Should return a list: `['jondow@franks.com']`\n",
    "\n"
   ]
  },
  {
   "cell_type": "code",
   "execution_count": 122,
   "metadata": {
    "deletable": false,
    "nbgrader": {
     "cell_type": "code",
     "checksum": "a3b1cf6ae63bfa106c7a11962355e7bc",
     "grade": false,
     "grade_id": "Q11",
     "locked": false,
     "schema_version": 3,
     "solution": true,
     "task": false
    }
   },
   "outputs": [
    {
     "name": "stdout",
     "output_type": "stream",
     "text": [
      "['jondow@franks.com']\n"
     ]
    }
   ],
   "source": [
    "#Your answer here\n",
    "import re\n",
    "    \n",
    "str10 = 'Email the company at jondow@franks.com today.'\n",
    "\n",
    "# YOUR CODE HERE\n",
    "def extract_email(str10):\n",
    "    i =re.findall(r'\\S*@\\S*\\s?',str10)\n",
    "    list=[i.rstrip(' ') for i in i]\n",
    "    return list\n",
    "print(extract_email(str10))\n"
   ]
  },
  {
   "cell_type": "code",
   "execution_count": 123,
   "metadata": {
    "deletable": false,
    "editable": false,
    "nbgrader": {
     "cell_type": "code",
     "checksum": "1e8429216e3995dc8c90ba5efe50ea12",
     "grade": true,
     "grade_id": "Q11-sol",
     "locked": true,
     "points": 2,
     "schema_version": 3,
     "solution": false,
     "task": false
    }
   },
   "outputs": [],
   "source": [
    "#DO NOT MODIFY/DELETE THIS CELL\n",
    "assert len(extract_email('Email the company at jondow@franks.com today.'))==1\n",
    "assert extract_email('Email the company at jondow@franks.com today.')==['jondow@franks.com']\n"
   ]
  },
  {
   "cell_type": "code",
   "execution_count": 124,
   "metadata": {
    "deletable": false,
    "editable": false,
    "nbgrader": {
     "cell_type": "code",
     "checksum": "d587a839e5be811dc9ade41146f5eb57",
     "grade": true,
     "grade_id": "Q11-sol2",
     "locked": true,
     "points": 2,
     "schema_version": 3,
     "solution": false,
     "task": false
    }
   },
   "outputs": [],
   "source": [
    "#DO NOT MODIFY/DELETE THIS CELL\n",
    "\n",
    "    "
   ]
  },
  {
   "cell_type": "code",
   "execution_count": 125,
   "metadata": {
    "deletable": false,
    "editable": false,
    "nbgrader": {
     "cell_type": "code",
     "checksum": "f61edaf3d9a5bbc3753809db13e3d1c3",
     "grade": true,
     "grade_id": "Q11-sol3",
     "locked": true,
     "points": 2,
     "schema_version": 3,
     "solution": false,
     "task": false
    }
   },
   "outputs": [],
   "source": [
    "#DO NOT MODIFY/DELETE THIS CELL"
   ]
  }
 ],
 "metadata": {
  "kernelspec": {
   "display_name": "Python 3 (ipykernel)",
   "language": "python",
   "name": "python3"
  },
  "language_info": {
   "codemirror_mode": {
    "name": "ipython",
    "version": 3
   },
   "file_extension": ".py",
   "mimetype": "text/x-python",
   "name": "python",
   "nbconvert_exporter": "python",
   "pygments_lexer": "ipython3",
   "version": "3.9.12"
  }
 },
 "nbformat": 4,
 "nbformat_minor": 4
}
